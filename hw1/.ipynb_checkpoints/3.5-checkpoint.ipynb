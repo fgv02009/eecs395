{
 "cells": [
  {
   "cell_type": "markdown",
   "metadata": {},
   "source": [
    "#### Express the coordinate descent method as a local optimization scheme in the general form described in Section ??. That is, as a sequence of steps of the form $w^k = w^{k−1} + α d^{k-1}$\n"
   ]
  },
  {
   "cell_type": "markdown",
   "metadata": {},
   "source": [
    "Coordinate descent method: You have starting point $w^0$ and function $g$ that you are trying to minimize. Select index $i$ for $i \\in N$ (N being the number of dimensions of w). You look in both of the directions (positive and negative) of the selected $i$ dimension. \n",
    "So you attempt to move $w^0$ one step in the positive direction along the $i^{th}$ axis and one step in the negative direction along the $i^{th}$ axis. If the minimum of the output of the function evaluated at those two steps is less than the output of the function of $w^0$, you move from $w^0$ to $w^1$:\n",
    "\n",
    "$w^1 = w^0 + αd^0$ if $g(w^1) < g(w^0)$ \n",
    "\n",
    "where $d^0$ is the direction vector from point $w^0$ decided from the coordinate descent evaluation described above. Therefore, in general coordinate descent can be expressed as a local optimization scheme $w^k = w^{k−1} + α d^{k-1}$ where $d^{k-1}$ is the descent direction determined by coordinate descent at the point $w^{k-1}$ "
   ]
  },
  {
   "cell_type": "code",
   "execution_count": null,
   "metadata": {},
   "outputs": [],
   "source": []
  }
 ],
 "metadata": {
  "kernelspec": {
   "display_name": "Python 3",
   "language": "python",
   "name": "python3"
  },
  "language_info": {
   "codemirror_mode": {
    "name": "ipython",
    "version": 3
   },
   "file_extension": ".py",
   "mimetype": "text/x-python",
   "name": "python",
   "nbconvert_exporter": "python",
   "pygments_lexer": "ipython3",
   "version": "3.6.5"
  }
 },
 "nbformat": 4,
 "nbformat_minor": 2
}
