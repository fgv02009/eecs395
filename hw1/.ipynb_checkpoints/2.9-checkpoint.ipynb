{
 "cells": [
  {
   "cell_type": "markdown",
   "metadata": {},
   "source": [
    "2.9 Coordinate Search vs Coordinate Descent"
   ]
  },
  {
   "cell_type": "code",
   "execution_count": 146,
   "metadata": {},
   "outputs": [],
   "source": [
    "import random\n",
    "import math\n",
    "import numpy as np\n",
    "import matplotlib.pyplot as plt\n",
    "from mpl_toolkits import mplot3d"
   ]
  },
  {
   "cell_type": "code",
   "execution_count": 538,
   "metadata": {},
   "outputs": [],
   "source": [
    "#Coordinate Search\n",
    "def coordinate_search(g, alpha_choice, init_point, max_num_steps):\n",
    "    directions_plus = np.eye(np.size(init_point),np.size(init_point))\n",
    "    directions_minus = - np.eye(np.size(init_point),np.size(init_point))\n",
    "    directions = np.concatenate((directions_plus,directions_minus),axis=0)\n",
    "    current_point = init_point\n",
    "    min_inputs = [init_point]\n",
    "    steps = []\n",
    "    steps.append(g(current_point))\n",
    "    for i in range(max_num_steps):\n",
    "        if alpha_choice == 'diminishing':\n",
    "            alpha = 1/float(i + 1)\n",
    "        else:\n",
    "            alpha = alpha_choice\n",
    "    \n",
    "        ### pick best descent direction\n",
    "        # compute all new candidate points\n",
    "        w_candidates = current_point + alpha*directions\n",
    "\n",
    "        # evaluate all candidates\n",
    "        evals = np.array([g(w_val) for w_val in w_candidates]) \n",
    "        \n",
    "        # if we find a real descent direction take the step in its direction\n",
    "        ind = np.argmin(evals)\n",
    "        if g(w_candidates[ind]) < g(current_point):\n",
    "            # pluck out best descent direction\n",
    "            d = directions[ind,:]\n",
    "        \n",
    "            # take step\n",
    "            current_point = current_point + alpha*d\n",
    "\n",
    "        min_inputs.append(current_point)\n",
    "        steps.append(g(current_point))\n",
    "    \n",
    "    #for testing\n",
    "    print(\"Final Step Info: \")\n",
    "    print(\"w: \", min_inputs[-1])\n",
    "    print(\"output:  \", steps[-1])\n",
    "    return min_inputs, steps\n",
    "        \n",
    "def coordinate_descent(g, alpha_choice, init_point, max_num_steps):\n",
    "    current_point = init_point\n",
    "    min_inputs = [init_point]\n",
    "    steps = []\n",
    "    N = np.size(init_point)\n",
    "    current_point = init_point\n",
    "    cost = g(current_point)\n",
    "    steps.append(cost)\n",
    "    for i in range(max_num_steps):\n",
    "        if alpha_choice == 'diminishing':\n",
    "            alpha = 1/float(i + 1)\n",
    "        else:\n",
    "            alpha = alpha_choice\n",
    "            \n",
    "        directions =  np.array([[1, 0], [-1, 0]])\n",
    "        backup_directions = np.array([[0,1], [0,-1]])\n",
    "        axis_direction = [directions, backup_directions]\n",
    "        ind_0 = np.random.choice(2)\n",
    "        if ind_0 == 1:\n",
    "            ind_1 = 0\n",
    "        else:\n",
    "            ind_1 = 1\n",
    "        first_directions = axis_direction[ind_0]\n",
    "        next_directions = axis_direction[ind_1]\n",
    "\n",
    "        w_candidates = current_point + alpha*first_directions\n",
    "        backup_w_candidates = current_point + alpha * next_directions\n",
    "        evals = np.array([g(w_val) for w_val in w_candidates])\n",
    "\n",
    "        ind = np.argmin(evals)\n",
    "\n",
    "        if g(w_candidates[ind]) < g(current_point):\n",
    "            d = first_directions[ind,:]\n",
    "\n",
    "        # take step\n",
    "            current_point = current_point + alpha*d\n",
    "        else:\n",
    "            backup_evals = np.array([g(w_val) for w_val in backup_w_candidates])\n",
    "            backup_ind = np.argmin(backup_evals)\n",
    "            if g(backup_w_candidates[backup_ind] < g(current_point)):\n",
    "                    d = next_directions[backup_ind,:]\n",
    "                    current_point = current_point + alpha*d\n",
    "        min_inputs.append(current_point)\n",
    "        steps.append(g(current_point))\n",
    "    \n",
    "    #for testing\n",
    "    print(\"Final Step Info: \")\n",
    "    print(\"w: \", min_inputs[-1])\n",
    "    print(\"output:  \", steps[-1])\n",
    "    return min_inputs, steps\n",
    "                "
   ]
  },
  {
   "cell_type": "code",
   "execution_count": 539,
   "metadata": {},
   "outputs": [
    {
     "name": "stdout",
     "output_type": "stream",
     "text": [
      "Final Step Info: \n",
      "w:  [1.61104617 1.6104108 ]\n",
      "output:   0.10377795044372196\n",
      "Final Step Info: \n",
      "w:  [1.84983713 1.9132865 ]\n",
      "output:   0.14261744977402224\n"
     ]
    }
   ],
   "source": [
    "def func_to_evaluate(point):\n",
    "    return .26*(point[0]**2 + point[1]**2)-.48*point[0]*point[1]\n",
    "\n",
    "max_num_steps = 40\n",
    "init_point = [3.0,4.0] #guessing - don't see this specifically stated in book\n",
    "alpha = 0 #this will be ignored becuase edited function to reset alpha for diminishing step\n",
    "cs_inputs, cs_steps = coordinate_search(func_to_evaluate, \"diminishing\", init_point, max_num_steps)\n",
    "cd_inputs, cd_steps = coordinate_descent(func_to_evaluate, \"diminishing\", init_point, max_num_steps)"
   ]
  },
  {
   "cell_type": "code",
   "execution_count": 540,
   "metadata": {},
   "outputs": [
    {
     "data": {
      "image/png": "[encoded data removed]",
      "text/plain": [
       "<Figure size 432x288 with 1 Axes>"
      ]
     },
     "metadata": {},
     "output_type": "display_data"
    }
   ],
   "source": [
    "plt.plot(cs_steps, 'r-', label=\"coordinate search\")\n",
    "plt.plot(cd_steps, 'b--', label='coordinate descent')\n",
    "plt.title(\"Cost Function History Plot\")\n",
    "plt.legend(loc=\"upper right\")\n",
    "plt.show()"
   ]
  },
  {
   "cell_type": "code",
   "execution_count": 541,
   "metadata": {},
   "outputs": [
    {
     "name": "stdout",
     "output_type": "stream",
     "text": [
      "Final Step Info: \n",
      "w:  [0.7649071  0.78988319]\n",
      "output:   0.024329679921168135\n",
      "Final Step Info: \n",
      "w:  [1.20991132 1.21179627]\n",
      "output:   0.05864756465566079\n"
     ]
    },
    {
     "data": {
      "image/png": "[encoded data removed]",
      "text/plain": [
       "<Figure size 432x288 with 1 Axes>"
      ]
     },
     "metadata": {},
     "output_type": "display_data"
    }
   ],
   "source": [
    "#trying a diff init point\n",
    "max_num_steps = 40\n",
    "init_point = [2.0,2.0] #guessing - don't see this specifically stated in book\n",
    "alpha = 0 #this will be ignored becuase edited function to reset alpha for diminishing step\n",
    "cs_inputs, cs_steps = coordinate_search(func_to_evaluate, \"diminishing\", init_point, max_num_steps)\n",
    "cd_inputs, cd_steps = coordinate_descent(func_to_evaluate, \"diminishing\", init_point, max_num_steps)\n",
    "\n",
    "plt.plot(cs_steps, 'r-', label=\"coordinate search\")\n",
    "plt.plot(cd_steps, 'b--', label='coordinate descent')\n",
    "plt.title(\"Cost Function History Plot\")\n",
    "plt.legend(loc=\"upper right\")\n",
    "plt.show()"
   ]
  }
 ],
 "metadata": {
  "kernelspec": {
   "display_name": "Python 3",
   "language": "python",
   "name": "python3"
  },
  "language_info": {
   "codemirror_mode": {
    "name": "ipython",
    "version": 3
   },
   "file_extension": ".py",
   "mimetype": "text/x-python",
   "name": "python",
   "nbconvert_exporter": "python",
   "pygments_lexer": "ipython3",
   "version": "3.6.5"
  }
 },
 "nbformat": 4,
 "nbformat_minor": 2
}
