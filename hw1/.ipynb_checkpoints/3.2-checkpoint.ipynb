{
 "cells": [
  {
   "cell_type": "markdown",
   "metadata": {},
   "source": [
    "$$g(w) = a + b^Tw +w^TCw$$\n",
    "\n",
    "$$\\frac{dg}{dw} = b + 2Cw=$$\n",
    "\n",
    "$$2Cw + b = 0 $$\n",
    "\n",
    "$$Cw = \\frac{-b}{2}$$\n",
    "\n",
    "$$\\frac{1}{\\beta}Iw = \\frac{-b}{2}$$\n",
    "\n",
    "$$\\frac{1}{\\beta}w = \\frac{-b}{2}$$\n",
    "\n",
    "$$w = \\frac{-b}{2}\\beta$$"
   ]
  },
  {
   "cell_type": "code",
   "execution_count": null,
   "metadata": {},
   "outputs": [],
   "source": []
  }
 ],
 "metadata": {
  "kernelspec": {
   "display_name": "Python 3",
   "language": "python",
   "name": "python3"
  },
  "language_info": {
   "codemirror_mode": {
    "name": "ipython",
    "version": 3
   },
   "file_extension": ".py",
   "mimetype": "text/x-python",
   "name": "python",
   "nbconvert_exporter": "python",
   "pygments_lexer": "ipython3",
   "version": "3.6.5"
  }
 },
 "nbformat": 4,
 "nbformat_minor": 2
}
